{
  "nbformat": 4,
  "nbformat_minor": 0,
  "metadata": {
    "colab": {
      "provenance": [],
      "authorship_tag": "ABX9TyMrVs1aSPlyX88RgyMOF2Hf",
      "include_colab_link": true
    },
    "kernelspec": {
      "name": "python3",
      "display_name": "Python 3"
    },
    "language_info": {
      "name": "python"
    }
  },
  "cells": [
    {
      "cell_type": "markdown",
      "metadata": {
        "id": "view-in-github",
        "colab_type": "text"
      },
      "source": [
        "<a href=\"https://colab.research.google.com/github/pankajtandon/Gist/blob/main/tell_me_a_story.ipynb\" target=\"_parent\"><img src=\"https://colab.research.google.com/assets/colab-badge.svg\" alt=\"Open In Colab\"/></a>"
      ]
    },
    {
      "cell_type": "code",
      "execution_count": 3,
      "metadata": {
        "colab": {
          "base_uri": "https://localhost:8080/"
        },
        "id": "gecCEIh87pNu",
        "outputId": "e6656836-cfeb-4e6b-9c5b-717edafc108a"
      },
      "outputs": [
        {
          "output_type": "stream",
          "name": "stdout",
          "text": [
            "Mounted at /content/drive\n"
          ]
        }
      ],
      "source": [
        "from google.colab import drive\n",
        "drive.mount('/content/drive')"
      ]
    },
    {
      "cell_type": "code",
      "source": [
        "# This will need to be done everytime your VM disconnects.\n",
        "\n",
        "!pip install pyngrok -q\n",
        "!pip install streamlit -q\n",
        "!pip install openai -q\n",
        "!pip install langchain -q\n",
        "!pip install tiktoken -q\n",
        "!pip install sentence_transformers -q\n",
        "!pip install tiktoken -q\n",
        "!pip install PyPDF2 -q\n",
        "!pip install faiss-cpu -q\n",
        "!pip install ipdb -q"
      ],
      "metadata": {
        "id": "QVOm0GMeGVM8"
      },
      "execution_count": null,
      "outputs": []
    },
    {
      "cell_type": "code",
      "source": [
        "import ipdb\n",
        "import time\n",
        "import streamlit as st\n",
        "from PyPDF2 import PdfReader\n",
        "from langchain.text_splitter import CharacterTextSplitter\n",
        "from langchain.embeddings.openai import OpenAIEmbeddings\n",
        "from langchain.embeddings.huggingface import HuggingFaceEmbeddings\n",
        "from langchain.vectorstores import FAISS\n",
        "from langchain.chains.question_answering import load_qa_chain\n",
        "from langchain.llms import OpenAI\n",
        "from langchain.callbacks import get_openai_callback\n",
        "from transformers import pipeline\n",
        "from langchain import PromptTemplate, LLMChain\n",
        "from langchain.chat_models import ChatOpenAI\n",
        "from PIL import Image\n",
        "import requests\n",
        "from io import BytesIO"
      ],
      "metadata": {
        "id": "yGbVp9hqG66Y"
      },
      "execution_count": 5,
      "outputs": []
    },
    {
      "cell_type": "code",
      "source": [
        "# This writes the code to the VM on which this notebook runs.\n",
        "\n",
        "%%writefile /content/drive/MyDrive/colab_content/story.py\n",
        "\n",
        "\n",
        "\n",
        "import ipdb\n",
        "import time\n",
        "import streamlit as st\n",
        "from PyPDF2 import PdfReader\n",
        "from langchain.text_splitter import CharacterTextSplitter\n",
        "from langchain.embeddings.openai import OpenAIEmbeddings\n",
        "from langchain.embeddings.huggingface import HuggingFaceEmbeddings\n",
        "from langchain.vectorstores import FAISS\n",
        "from langchain.chains.question_answering import load_qa_chain\n",
        "from langchain.llms import OpenAI\n",
        "from langchain.callbacks import get_openai_callback\n",
        "from transformers import pipeline\n",
        "from langchain import PromptTemplate, LLMChain\n",
        "from langchain.chat_models import ChatOpenAI\n",
        "from PIL import Image\n",
        "import requests\n",
        "from io import BytesIO\n",
        "\n",
        "\n",
        "PAGE_CONFIG = {\"page_title\": \"Hello baby!\", \"page_icon\": \"smiley\", \"layout\": \"centered\"}\n",
        "st.set_page_config(**PAGE_CONFIG)\n",
        "st.title(\"Welcome to our world of baby delights!\")\n",
        "st.subheader(\"We are head over heels!\")\n",
        "\n",
        "\n",
        "uploaded_file = st.file_uploader(\"Upload your image\", type =  ['png', 'jpg'])\n",
        "\n",
        "genre_choice = st.selectbox(\n",
        "    label = 'Which genre should the story be in?',\n",
        "    options= ['Scary', 'Funny', 'Horrific', 'Suspenseful', 'Poetic', 'Haiku Like', 'Pedantic', 'Shakesperean', 'Gothic', 'Romantic']\n",
        ")\n",
        "\n",
        "debug = st.checkbox(\"Would you like to see debug info?\")\n",
        "\n",
        "if (uploaded_file is not None) and (uploaded_file.name is not None):\n",
        "  bytes = uploaded_file.getvalue()\n",
        "  with open(uploaded_file.name, \"wb\") as file:\n",
        "    file.write(bytes)\n",
        "\n",
        "  st.image(uploaded_file, caption = \"Uploaded Image\", use_column_width = True)\n",
        "\n",
        "\n",
        "image_to_text = pipeline(\"image-to-text\", model = \"Salesforce/blip-image-captioning-base\")\n",
        "# image_to_text = pipeline(\"image-to-text\", model = \"nlpconnect/vit-gpt2-image-captioning\")\n",
        "\n",
        "text = image_to_text(uploaded_file.name)\n",
        "# text = image_to_text(img)\n",
        "\n",
        "print(text[0][\"generated_text\"])\n",
        "\n",
        "\n",
        "def story_teller(scenario, genre):\n",
        "  template = \"\"\"\n",
        "  You are a great story teller! Based on the scenario below, tell me a story of about 25 words that is interesting and {genre}!\n",
        "  Scenario: {scenario}\n",
        "  \"\"\"\n",
        "\n",
        "  prompt = PromptTemplate(template = template, input_variables = [\"scenario\", \"genre\"])\n",
        "\n",
        "  print(\"Prompt\", prompt)\n",
        "\n",
        "  story_teller_chain = LLMChain(llm = ChatOpenAI(model_name = \"gpt-3.5-turbo\", temperature = 1), prompt = prompt, verbose = True)\n",
        "  story = story_teller_chain.predict(scenario = scenario, genre = genre)\n",
        "  return story\n",
        "\n",
        "story = story_teller(scenario = text[0][\"generated_text\"], genre = genre_choice)\n",
        "\n",
        "st.write(\"Here's your \", genre_choice, \" story\")\n",
        "print(story)\n",
        "st.write(story)\n",
        "\n"
      ],
      "metadata": {
        "colab": {
          "base_uri": "https://localhost:8080/"
        },
        "id": "ZpxLb6WNHaWk",
        "outputId": "1158c862-8b26-4e76-87ca-f372c5c788a3"
      },
      "execution_count": 28,
      "outputs": [
        {
          "output_type": "stream",
          "name": "stdout",
          "text": [
            "Overwriting /content/drive/MyDrive/colab_content/story.py\n"
          ]
        }
      ]
    },
    {
      "cell_type": "code",
      "source": [
        "# Set up the tunnel to allow access to the running Streamlit instance.\n",
        "import os\n",
        "from pyngrok import ngrok\n",
        "\n",
        "with open('/content/drive/MyDrive/colab_content/api-keys.txt', 'r') as f:\n",
        "    api_key_list = f.readlines()\n",
        "for kv in api_key_list:\n",
        "    k,v = kv.split('=')\n",
        "    #print(k, v)\n",
        "    os.environ[k] = v.strip()\n",
        "\n",
        "ngrok_token = os.getenv('NGROK_AUTH_TOKEN').strip()\n",
        "!ngrok authtoken $ngrok_token\n",
        "public_url = ngrok.connect(addr='8501') # This is the default Streamlit port\n",
        "print('This is the URL that can be used to access the Streamlit app', public_url)\n",
        "\n"
      ],
      "metadata": {
        "colab": {
          "base_uri": "https://localhost:8080/"
        },
        "id": "IhzIRVgXR5hG",
        "outputId": "16215e6f-0479-4f48-c7fd-7edb6923d8d6"
      },
      "execution_count": 29,
      "outputs": [
        {
          "output_type": "stream",
          "name": "stdout",
          "text": [
            "Authtoken saved to configuration file: /root/.ngrok2/ngrok.yml\n"
          ]
        },
        {
          "output_type": "stream",
          "name": "stderr",
          "text": [
            "WARNING:pyngrok.process.ngrok:t=2023-06-21T02:46:45+0000 lvl=warn msg=\"ngrok config file found at legacy location, move to XDG location\" xdg_path=/root/.config/ngrok/ngrok.yml legacy_path=/root/.ngrok2/ngrok.yml\n"
          ]
        },
        {
          "output_type": "stream",
          "name": "stdout",
          "text": [
            "This is the URL that can be used to access the Streamlit app NgrokTunnel: \"https://9eca-34-80-55-159.ngrok-free.app\" -> \"http://localhost:8501\"\n"
          ]
        }
      ]
    },
    {
      "cell_type": "code",
      "source": [
        "# Start the streamlit app and leave it running and then access the running app at the URL above.\n",
        "\n",
        "!streamlit run /content/drive/MyDrive/colab_content/story.py"
      ],
      "metadata": {
        "colab": {
          "base_uri": "https://localhost:8080/"
        },
        "id": "asYr7mLlSJqh",
        "outputId": "ff56a29b-edd9-49c3-c642-4376a615a26f"
      },
      "execution_count": null,
      "outputs": [
        {
          "output_type": "stream",
          "name": "stdout",
          "text": [
            "\n",
            "Collecting usage statistics. To deactivate, set browser.gatherUsageStats to False.\n",
            "\u001b[0m\n",
            "\u001b[0m\n",
            "\u001b[34m\u001b[1m  You can now view your Streamlit app in your browser.\u001b[0m\n",
            "\u001b[0m\n",
            "\u001b[34m  Network URL: \u001b[0m\u001b[1mhttp://172.28.0.12:8501\u001b[0m\n",
            "\u001b[34m  External URL: \u001b[0m\u001b[1mhttp://34.80.55.159:8501\u001b[0m\n",
            "\u001b[0m\n",
            "2023-06-21 02:47:03.271803: W tensorflow/compiler/tf2tensorrt/utils/py_utils.cc:38] TF-TRT Warning: Could not find TensorRT\n",
            "2023-06-21 02:47:12.336 Uncaught app exception\n",
            "Traceback (most recent call last):\n",
            "  File \"/usr/local/lib/python3.10/dist-packages/streamlit/runtime/scriptrunner/script_runner.py\", line 552, in _run_script\n",
            "    exec(code, module.__dict__)\n",
            "  File \"/content/drive/MyDrive/colab_content/story.py\", line 49, in <module>\n",
            "    text = image_to_text(uploaded_file.name)\n",
            "AttributeError: 'NoneType' object has no attribute 'name'\n",
            "/usr/local/lib/python3.10/dist-packages/transformers/generation/utils.py:1353: UserWarning: Using `max_length`'s default (20) to control the generation length. This behaviour is deprecated and will be removed from the config in v5 of Transformers -- we recommend using `max_new_tokens` to control the maximum length of the generation.\n",
            "  warnings.warn(\n",
            "a man riding a bike down a sidewalk\n",
            "Prompt input_variables=['scenario', 'genre'] output_parser=None partial_variables={} template='\\n  You are a great story teller! Based on the scenario below, tell me a story of about 25 words that is interesting and {genre}!\\n  Scenario: {scenario}\\n  ' template_format='f-string' validate_template=True\n",
            "\n",
            "\n",
            "\u001b[1m> Entering new  chain...\u001b[0m\n",
            "Prompt after formatting:\n",
            "\u001b[32;1m\u001b[1;3m\n",
            "  You are a great story teller! Based on the scenario below, tell me a story of about 25 words that is interesting and Scary!\n",
            "  Scenario: a man riding a bike down a sidewalk\n",
            "  \u001b[0m\n",
            "\n",
            "\u001b[1m> Finished chain.\u001b[0m\n",
            "/usr/local/lib/python3.10/dist-packages/transformers/generation/utils.py:1353: UserWarning: Using `max_length`'s default (20) to control the generation length. This behaviour is deprecated and will be removed from the config in v5 of Transformers -- we recommend using `max_new_tokens` to control the maximum length of the generation.\n",
            "  warnings.warn(\n",
            "a man riding a bike down a sidewalk\n",
            "Prompt input_variables=['scenario', 'genre'] output_parser=None partial_variables={} template='\\n  You are a great story teller! Based on the scenario below, tell me a story of about 25 words that is interesting and {genre}!\\n  Scenario: {scenario}\\n  ' template_format='f-string' validate_template=True\n",
            "\n",
            "\n",
            "\u001b[1m> Entering new  chain...\u001b[0m\n",
            "Prompt after formatting:\n",
            "\u001b[32;1m\u001b[1;3m\n",
            "  You are a great story teller! Based on the scenario below, tell me a story of about 25 words that is interesting and Romantic!\n",
            "  Scenario: a man riding a bike down a sidewalk\n",
            "  \u001b[0m\n",
            "\n",
            "\u001b[1m> Finished chain.\u001b[0m\n",
            "As he pedaled down the sidewalk, her heart skipped a beat. Their eyes met, and in that moment, she knew that her life would never be the same.\n",
            "a man riding a bike down a sidewalk\n",
            "Prompt input_variables=['scenario', 'genre'] output_parser=None partial_variables={} template='\\n  You are a great story teller! Based on the scenario below, tell me a story of about 25 words that is interesting and {genre}!\\n  Scenario: {scenario}\\n  ' template_format='f-string' validate_template=True\n",
            "\n",
            "\n",
            "\u001b[1m> Entering new  chain...\u001b[0m\n",
            "Prompt after formatting:\n",
            "\u001b[32;1m\u001b[1;3m\n",
            "  You are a great story teller! Based on the scenario below, tell me a story of about 25 words that is interesting and Haiku Like!\n",
            "  Scenario: a man riding a bike down a sidewalk\n",
            "  \u001b[0m\n",
            "\n",
            "\u001b[1m> Finished chain.\u001b[0m\n",
            "Wheels spin beneath him,\n",
            "A breeze through his hair, he flies,\n",
            "Freedom's his to own.\n",
            "2023-06-21 02:53:09.443 Uncaught app exception\n",
            "Traceback (most recent call last):\n",
            "  File \"/usr/local/lib/python3.10/dist-packages/streamlit/runtime/scriptrunner/script_runner.py\", line 552, in _run_script\n",
            "    exec(code, module.__dict__)\n",
            "  File \"/content/drive/MyDrive/colab_content/story.py\", line 49, in <module>\n",
            "    text = image_to_text(uploaded_file.name)\n",
            "AttributeError: 'NoneType' object has no attribute 'name'\n",
            "a family celebrating a birthday\n",
            "Prompt input_variables=['scenario', 'genre'] output_parser=None partial_variables={} template='\\n  You are a great story teller! Based on the scenario below, tell me a story of about 25 words that is interesting and {genre}!\\n  Scenario: {scenario}\\n  ' template_format='f-string' validate_template=True\n",
            "\n",
            "\n",
            "\u001b[1m> Entering new  chain...\u001b[0m\n",
            "Prompt after formatting:\n",
            "\u001b[32;1m\u001b[1;3m\n",
            "  You are a great story teller! Based on the scenario below, tell me a story of about 25 words that is interesting and Haiku Like!\n",
            "  Scenario: a family celebrating a birthday\n",
            "  \u001b[0m\n",
            "\n",
            "\u001b[1m> Finished chain.\u001b[0m\n",
            "a family celebrating a birthday\n",
            "Prompt input_variables=['scenario', 'genre'] output_parser=None partial_variables={} template='\\n  You are a great story teller! Based on the scenario below, tell me a story of about 25 words that is interesting and {genre}!\\n  Scenario: {scenario}\\n  ' template_format='f-string' validate_template=True\n",
            "\n",
            "\n",
            "\u001b[1m> Entering new  chain...\u001b[0m\n",
            "Prompt after formatting:\n",
            "\u001b[32;1m\u001b[1;3m\n",
            "  You are a great story teller! Based on the scenario below, tell me a story of about 25 words that is interesting and Funny!\n",
            "  Scenario: a family celebrating a birthday\n",
            "  \u001b[0m\n",
            "\n",
            "\u001b[1m> Finished chain.\u001b[0m\n",
            "As the family gathered around the birthday cake, the youngest child blew out the candles - and accidentally sent a stream of icing shooting straight into Grandma's face.\n",
            "a family celebrating a birthday\n",
            "Prompt input_variables=['scenario', 'genre'] output_parser=None partial_variables={} template='\\n  You are a great story teller! Based on the scenario below, tell me a story of about 25 words that is interesting and {genre}!\\n  Scenario: {scenario}\\n  ' template_format='f-string' validate_template=True\n",
            "\n",
            "\n",
            "\u001b[1m> Entering new  chain...\u001b[0m\n",
            "Prompt after formatting:\n",
            "\u001b[32;1m\u001b[1;3m\n",
            "  You are a great story teller! Based on the scenario below, tell me a story of about 25 words that is interesting and Scary!\n",
            "  Scenario: a family celebrating a birthday\n",
            "  \u001b[0m\n",
            "\n",
            "\u001b[1m> Finished chain.\u001b[0m\n",
            "The family gathered around the birthday cake, but suddenly the lights went out. When they turned back on, the cake was gone and a mysterious message was left in its place.\n",
            "a family celebrating a birthday\n",
            "Prompt input_variables=['scenario', 'genre'] output_parser=None partial_variables={} template='\\n  You are a great story teller! Based on the scenario below, tell me a story of about 25 words that is interesting and {genre}!\\n  Scenario: {scenario}\\n  ' template_format='f-string' validate_template=True\n",
            "\n",
            "\n",
            "\u001b[1m> Entering new  chain...\u001b[0m\n",
            "Prompt after formatting:\n",
            "\u001b[32;1m\u001b[1;3m\n",
            "  You are a great story teller! Based on the scenario below, tell me a story of about 25 words that is interesting and Romantic!\n",
            "  Scenario: a family celebrating a birthday\n",
            "  \u001b[0m\n",
            "\n",
            "\u001b[1m> Finished chain.\u001b[0m\n",
            "Amidst the laughter and cake, their eyes met across the room. A spark ignited and it was clear - this celebration was about more than just the birthday.\n",
            "2023-06-21 03:00:46.439 Uncaught app exception\n",
            "Traceback (most recent call last):\n",
            "  File \"/usr/local/lib/python3.10/dist-packages/streamlit/runtime/scriptrunner/script_runner.py\", line 552, in _run_script\n",
            "    exec(code, module.__dict__)\n",
            "  File \"/content/drive/MyDrive/colab_content/story.py\", line 49, in <module>\n",
            "    text = image_to_text(uploaded_file.name)\n",
            "AttributeError: 'NoneType' object has no attribute 'name'\n",
            "a man sitting at a table with a plate of food\n",
            "Prompt input_variables=['scenario', 'genre'] output_parser=None partial_variables={} template='\\n  You are a great story teller! Based on the scenario below, tell me a story of about 25 words that is interesting and {genre}!\\n  Scenario: {scenario}\\n  ' template_format='f-string' validate_template=True\n",
            "\n",
            "\n",
            "\u001b[1m> Entering new  chain...\u001b[0m\n",
            "Prompt after formatting:\n",
            "\u001b[32;1m\u001b[1;3m\n",
            "  You are a great story teller! Based on the scenario below, tell me a story of about 25 words that is interesting and Romantic!\n",
            "  Scenario: a man sitting at a table with a plate of food\n",
            "  \u001b[0m\n",
            "\n",
            "\u001b[1m> Finished chain.\u001b[0m\n",
            "As he sat at the table with his plate of food, he couldn't help but notice her beauty across the room. Cupid's arrow struck and he knew he would do anything to make her his forever.\n",
            "2023-06-21 03:03:12.698 Uncaught app exception\n",
            "Traceback (most recent call last):\n",
            "  File \"/usr/local/lib/python3.10/dist-packages/streamlit/runtime/scriptrunner/script_runner.py\", line 552, in _run_script\n",
            "    exec(code, module.__dict__)\n",
            "  File \"/content/drive/MyDrive/colab_content/story.py\", line 49, in <module>\n",
            "    text = image_to_text(uploaded_file.name)\n",
            "AttributeError: 'NoneType' object has no attribute 'name'\n",
            "a group of people sitting around a table\n",
            "Prompt input_variables=['scenario', 'genre'] output_parser=None partial_variables={} template='\\n  You are a great story teller! Based on the scenario below, tell me a story of about 25 words that is interesting and {genre}!\\n  Scenario: {scenario}\\n  ' template_format='f-string' validate_template=True\n",
            "\n",
            "\n",
            "\u001b[1m> Entering new  chain...\u001b[0m\n",
            "Prompt after formatting:\n",
            "\u001b[32;1m\u001b[1;3m\n",
            "  You are a great story teller! Based on the scenario below, tell me a story of about 25 words that is interesting and Romantic!\n",
            "  Scenario: a group of people sitting around a table\n",
            "  \u001b[0m\n",
            "\n",
            "\u001b[1m> Finished chain.\u001b[0m\n",
            "As they sat together around the table, their eyes met and sparked a connection. They laughed, told stories, and realized they had found their missing puzzle piece. Love was in the air.\n",
            "a group of people sitting around a table\n",
            "Prompt input_variables=['scenario', 'genre'] output_parser=None partial_variables={} template='\\n  You are a great story teller! Based on the scenario below, tell me a story of about 25 words that is interesting and {genre}!\\n  Scenario: {scenario}\\n  ' template_format='f-string' validate_template=True\n",
            "\n",
            "\n",
            "\u001b[1m> Entering new  chain...\u001b[0m\n",
            "Prompt after formatting:\n",
            "\u001b[32;1m\u001b[1;3m\n",
            "  You are a great story teller! Based on the scenario below, tell me a story of about 25 words that is interesting and Scary!\n",
            "  Scenario: a group of people sitting around a table\n",
            "  \u001b[0m\n",
            "\n",
            "\u001b[1m> Finished chain.\u001b[0m\n",
            "As the group chatted, a creepy figure emerged from the shadows, wielding a knife. They soon realized they were trapped with a serial killer.\n",
            "a group of people sitting around a table\n",
            "Prompt input_variables=['scenario', 'genre'] output_parser=None partial_variables={} template='\\n  You are a great story teller! Based on the scenario below, tell me a story of about 25 words that is interesting and {genre}!\\n  Scenario: {scenario}\\n  ' template_format='f-string' validate_template=True\n",
            "\n",
            "\n",
            "\u001b[1m> Entering new  chain...\u001b[0m\n",
            "Prompt after formatting:\n",
            "\u001b[32;1m\u001b[1;3m\n",
            "  You are a great story teller! Based on the scenario below, tell me a story of about 25 words that is interesting and Scary!\n",
            "  Scenario: a group of people sitting around a table\n",
            "  \u001b[0m\n",
            "\n",
            "\u001b[1m> Finished chain.\u001b[0m\n",
            "a group of people sitting around a table\n",
            "Prompt input_variables=['scenario', 'genre'] output_parser=None partial_variables={} template='\\n  You are a great story teller! Based on the scenario below, tell me a story of about 25 words that is interesting and {genre}!\\n  Scenario: {scenario}\\n  ' template_format='f-string' validate_template=True\n",
            "\n",
            "\n",
            "\u001b[1m> Entering new  chain...\u001b[0m\n",
            "Prompt after formatting:\n",
            "\u001b[32;1m\u001b[1;3m\n",
            "  You are a great story teller! Based on the scenario below, tell me a story of about 25 words that is interesting and Shakesperean!\n",
            "  Scenario: a group of people sitting around a table\n",
            "  \u001b[0m\n",
            "\n",
            "\u001b[1m> Finished chain.\u001b[0m\n",
            "Upon yonder table, a gathering didst commence. Thine eyes danced with mirth, their tales a sweet sustenance for thy souls. Oh how they laughed, merry and free, the joy of true companionship.\n"
          ]
        }
      ]
    }
  ]
}